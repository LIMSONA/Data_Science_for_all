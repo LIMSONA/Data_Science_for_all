{
 "cells": [
  {
   "cell_type": "code",
   "execution_count": 2,
   "id": "62bc01fb",
   "metadata": {},
   "outputs": [],
   "source": [
    "import os\n",
    "import pandas as pd\n",
    "import numpy as np\n",
    "\n",
    "#시각화\n",
    "import matplotlib.pyplot as plt\n",
    "import matplotlib as mpl\n",
    "import seaborn as sns"
   ]
  },
  {
   "cell_type": "code",
   "execution_count": 3,
   "id": "ec3928f0",
   "metadata": {},
   "outputs": [],
   "source": [
    "# 에러메세지가 안나오게 하는 라이브러리\n",
    "import warnings\n",
    "warnings.filterwarnings(action='ignore')"
   ]
  },
  {
   "cell_type": "code",
   "execution_count": 11,
   "id": "67d589bd",
   "metadata": {},
   "outputs": [
    {
     "data": {
      "text/plain": [
       "['블록별 성별연령대별 카드소비패턴.csv',\n",
       " '블록별 시간대별소액결제건수 카드소비패턴.csv',\n",
       " '집계구별 일별소비지역별 카드소비패턴.csv',\n",
       " '집계구별 일별시간대별 카드소비패턴.csv',\n",
       " '카드소비 업종코드.csv']"
      ]
     },
     "execution_count": 11,
     "metadata": {},
     "output_type": "execute_result"
    }
   ],
   "source": [
    "path= './data/'\n",
    "os.listdir(path)"
   ]
  },
  {
   "cell_type": "markdown",
   "id": "7e417e83",
   "metadata": {},
   "source": [
    "# 업종 코드/클래스\n",
    "\n",
    "* cd_class : 카드소비 업종코드"
   ]
  },
  {
   "cell_type": "markdown",
   "id": "c4c664a7",
   "metadata": {
    "heading_collapsed": true
   },
   "source": [
    "## 데이터 불러오기 & 살펴보기"
   ]
  },
  {
   "cell_type": "code",
   "execution_count": 23,
   "id": "458d4002",
   "metadata": {
    "hidden": true
   },
   "outputs": [
    {
     "data": {
      "text/html": [
       "<div>\n",
       "<style scoped>\n",
       "    .dataframe tbody tr th:only-of-type {\n",
       "        vertical-align: middle;\n",
       "    }\n",
       "\n",
       "    .dataframe tbody tr th {\n",
       "        vertical-align: top;\n",
       "    }\n",
       "\n",
       "    .dataframe thead th {\n",
       "        text-align: right;\n",
       "    }\n",
       "</style>\n",
       "<table border=\"1\" class=\"dataframe\">\n",
       "  <thead>\n",
       "    <tr style=\"text-align: right;\">\n",
       "      <th></th>\n",
       "      <th>업종코드(UPJONG_CD)</th>\n",
       "      <th>대분류(CLASS1)</th>\n",
       "      <th>중분류(CLASS2)</th>\n",
       "      <th>소분류(CLASS3)</th>\n",
       "    </tr>\n",
       "  </thead>\n",
       "  <tbody>\n",
       "    <tr>\n",
       "      <th>32</th>\n",
       "      <td>ss035</td>\n",
       "      <td>여행/교통</td>\n",
       "      <td>숙박</td>\n",
       "      <td>호텔/콘도</td>\n",
       "    </tr>\n",
       "    <tr>\n",
       "      <th>62</th>\n",
       "      <td>ss066</td>\n",
       "      <td>주유</td>\n",
       "      <td>주유</td>\n",
       "      <td>주유소</td>\n",
       "    </tr>\n",
       "  </tbody>\n",
       "</table>\n",
       "</div>"
      ],
      "text/plain": [
       "   업종코드(UPJONG_CD) 대분류(CLASS1) 중분류(CLASS2) 소분류(CLASS3)\n",
       "32           ss035       여행/교통          숙박       호텔/콘도\n",
       "62           ss066          주유          주유         주유소"
      ]
     },
     "execution_count": 23,
     "metadata": {},
     "output_type": "execute_result"
    }
   ],
   "source": [
    "cd_class = pd.read_csv(path+'카드소비 업종코드.csv', encoding='cp949')\n",
    "cd_class.sample(2)"
   ]
  },
  {
   "cell_type": "code",
   "execution_count": 33,
   "id": "388f498a",
   "metadata": {
    "hidden": true
   },
   "outputs": [
    {
     "data": {
      "text/plain": [
       "(75, 4)"
      ]
     },
     "execution_count": 33,
     "metadata": {},
     "output_type": "execute_result"
    }
   ],
   "source": [
    "cd_class.shape"
   ]
  },
  {
   "cell_type": "code",
   "execution_count": 26,
   "id": "3ac00aa1",
   "metadata": {
    "hidden": true,
    "scrolled": true
   },
   "outputs": [
    {
     "name": "stdout",
     "output_type": "stream",
     "text": [
      "<class 'pandas.core.frame.DataFrame'>\n",
      "RangeIndex: 75 entries, 0 to 74\n",
      "Data columns (total 4 columns):\n",
      " #   Column           Non-Null Count  Dtype \n",
      "---  ------           --------------  ----- \n",
      " 0   업종코드(UPJONG_CD)  75 non-null     object\n",
      " 1   대분류(CLASS1)      75 non-null     object\n",
      " 2   중분류(CLASS2)      75 non-null     object\n",
      " 3   소분류(CLASS3)      75 non-null     object\n",
      "dtypes: object(4)\n",
      "memory usage: 2.5+ KB\n"
     ]
    }
   ],
   "source": [
    "cd_class.info()"
   ]
  },
  {
   "cell_type": "markdown",
   "id": "3cb10726",
   "metadata": {
    "heading_collapsed": true
   },
   "source": [
    "## 💁‍♀️ 데이터를 살펴본 결과\n",
    "\n",
    "아래 3가지가 필요함을 느꼈다-!\n",
    "* 열 이름 바꾸기 (영어 없애기)\n",
    "* 각 대/중/소 분류별 데이터 확인하기\n",
    "* 결측값 확인하기"
   ]
  },
  {
   "cell_type": "markdown",
   "id": "6669a12d",
   "metadata": {
    "heading_collapsed": true,
    "hidden": true
   },
   "source": [
    "### 열 이름 바꾸기 (영어 없애기)"
   ]
  },
  {
   "cell_type": "code",
   "execution_count": 29,
   "id": "0ebe294d",
   "metadata": {
    "hidden": true
   },
   "outputs": [
    {
     "data": {
      "text/plain": [
       "Index(['업종코드(UPJONG_CD)', '대분류(CLASS1)', '중분류(CLASS2)', '소분류(CLASS3)'], dtype='object')"
      ]
     },
     "execution_count": 29,
     "metadata": {},
     "output_type": "execute_result"
    }
   ],
   "source": [
    "cd_class.columns"
   ]
  },
  {
   "cell_type": "code",
   "execution_count": 30,
   "id": "38e515eb",
   "metadata": {
    "hidden": true
   },
   "outputs": [],
   "source": [
    "cd_class.columns = ['업종코드', '대분류', '중분류', '소분류']"
   ]
  },
  {
   "cell_type": "code",
   "execution_count": 31,
   "id": "d97cb80a",
   "metadata": {
    "hidden": true
   },
   "outputs": [
    {
     "data": {
      "text/html": [
       "<div>\n",
       "<style scoped>\n",
       "    .dataframe tbody tr th:only-of-type {\n",
       "        vertical-align: middle;\n",
       "    }\n",
       "\n",
       "    .dataframe tbody tr th {\n",
       "        vertical-align: top;\n",
       "    }\n",
       "\n",
       "    .dataframe thead th {\n",
       "        text-align: right;\n",
       "    }\n",
       "</style>\n",
       "<table border=\"1\" class=\"dataframe\">\n",
       "  <thead>\n",
       "    <tr style=\"text-align: right;\">\n",
       "      <th></th>\n",
       "      <th>업종코드</th>\n",
       "      <th>대분류</th>\n",
       "      <th>중분류</th>\n",
       "      <th>소분류</th>\n",
       "    </tr>\n",
       "  </thead>\n",
       "  <tbody>\n",
       "    <tr>\n",
       "      <th>0</th>\n",
       "      <td>ss001</td>\n",
       "      <td>요식/유흥</td>\n",
       "      <td>한식</td>\n",
       "      <td>한식</td>\n",
       "    </tr>\n",
       "  </tbody>\n",
       "</table>\n",
       "</div>"
      ],
      "text/plain": [
       "    업종코드    대분류 중분류 소분류\n",
       "0  ss001  요식/유흥  한식  한식"
      ]
     },
     "execution_count": 31,
     "metadata": {},
     "output_type": "execute_result"
    }
   ],
   "source": [
    "cd_class.head(1)"
   ]
  },
  {
   "cell_type": "markdown",
   "id": "6ee32acd",
   "metadata": {
    "heading_collapsed": true,
    "hidden": true
   },
   "source": [
    "### 각 대/중 분류별 데이터 확인하기 "
   ]
  },
  {
   "cell_type": "code",
   "execution_count": 34,
   "id": "75a35071",
   "metadata": {
    "hidden": true
   },
   "outputs": [
    {
     "data": {
      "text/plain": [
       "스포츠/문화/레저    12\n",
       "요식/유흥        11\n",
       "교육/학원         7\n",
       "유통            6\n",
       "여행/교통         6\n",
       "가정생활/서비스      6\n",
       "의료            6\n",
       "의류/잡화         4\n",
       "음/식료품         3\n",
       "미용            3\n",
       "가전/가구         3\n",
       "자동차           3\n",
       "전자상거래         3\n",
       "주유            2\n",
       "Name: 대분류, dtype: int64"
      ]
     },
     "execution_count": 34,
     "metadata": {},
     "output_type": "execute_result"
    }
   ],
   "source": [
    "# 대분류\n",
    "cd_class.대분류.value_counts()"
   ]
  },
  {
   "cell_type": "code",
   "execution_count": 69,
   "id": "1441b05e",
   "metadata": {
    "hidden": true
   },
   "outputs": [
    {
     "data": {
      "text/plain": [
       "14"
      ]
     },
     "execution_count": 69,
     "metadata": {},
     "output_type": "execute_result"
    }
   ],
   "source": [
    "cd_class.대분류.nunique()"
   ]
  },
  {
   "cell_type": "code",
   "execution_count": 38,
   "id": "fa5f5c5c",
   "metadata": {
    "hidden": true,
    "scrolled": true
   },
   "outputs": [
    {
     "data": {
      "text/plain": [
       "스포츠/문화/레저      9\n",
       "학원             5\n",
       "병원             4\n",
       "음/식료품          3\n",
       "서비스            3\n",
       "일식/중식/양식       3\n",
       "여행             3\n",
       "스포츠/문화/레저용품    3\n",
       "전자상거래          3\n",
       "가전/가구          3\n",
       "할인점/슈퍼마켓       3\n",
       "유흥             3\n",
       "제과/커피/패스트푸드    3\n",
       "패션/잡화          3\n",
       "숙박             2\n",
       "자동차서비스/용품      2\n",
       "미용서비스          2\n",
       "주유             2\n",
       "각종요금           2\n",
       "기타의료           1\n",
       "교육용품           1\n",
       "자동차판매          1\n",
       "약국             1\n",
       "한식             1\n",
       "유아교육           1\n",
       "인테리어           1\n",
       "화장품            1\n",
       "의복/의류          1\n",
       "기타유통           1\n",
       "편의점            1\n",
       "백화점            1\n",
       "기타요식           1\n",
       "교통             1\n",
       "Name: 중분류, dtype: int64"
      ]
     },
     "execution_count": 38,
     "metadata": {},
     "output_type": "execute_result"
    }
   ],
   "source": [
    "# 중분류\n",
    "cd_class.중분류.value_counts()"
   ]
  },
  {
   "cell_type": "code",
   "execution_count": 70,
   "id": "e37567cd",
   "metadata": {
    "hidden": true
   },
   "outputs": [
    {
     "data": {
      "text/plain": [
       "33"
      ]
     },
     "execution_count": 70,
     "metadata": {},
     "output_type": "execute_result"
    }
   ],
   "source": [
    "cd_class.중분류.nunique()"
   ]
  },
  {
   "cell_type": "code",
   "execution_count": 58,
   "id": "12bbb1a3",
   "metadata": {
    "hidden": true
   },
   "outputs": [
    {
     "data": {
      "text/html": [
       "<div>\n",
       "<style scoped>\n",
       "    .dataframe tbody tr th:only-of-type {\n",
       "        vertical-align: middle;\n",
       "    }\n",
       "\n",
       "    .dataframe tbody tr th {\n",
       "        vertical-align: top;\n",
       "    }\n",
       "\n",
       "    .dataframe thead th {\n",
       "        text-align: right;\n",
       "    }\n",
       "</style>\n",
       "<table border=\"1\" class=\"dataframe\">\n",
       "  <thead>\n",
       "    <tr style=\"text-align: right;\">\n",
       "      <th></th>\n",
       "      <th>대분류</th>\n",
       "      <th>중분류</th>\n",
       "      <th>소분류</th>\n",
       "    </tr>\n",
       "  </thead>\n",
       "  <tbody>\n",
       "    <tr>\n",
       "      <th>28</th>\n",
       "      <td>스포츠/문화/레저</td>\n",
       "      <td>스포츠/문화/레저</td>\n",
       "      <td>서점</td>\n",
       "    </tr>\n",
       "    <tr>\n",
       "      <th>48</th>\n",
       "      <td>교육/학원</td>\n",
       "      <td>유아교육</td>\n",
       "      <td>유아교육</td>\n",
       "    </tr>\n",
       "    <tr>\n",
       "      <th>74</th>\n",
       "      <td>교육/학원</td>\n",
       "      <td>학원</td>\n",
       "      <td>취미/전문학원</td>\n",
       "    </tr>\n",
       "    <tr>\n",
       "      <th>55</th>\n",
       "      <td>의료</td>\n",
       "      <td>기타의료</td>\n",
       "      <td>기타의료</td>\n",
       "    </tr>\n",
       "    <tr>\n",
       "      <th>3</th>\n",
       "      <td>요식/유흥</td>\n",
       "      <td>일식/중식/양식</td>\n",
       "      <td>중식</td>\n",
       "    </tr>\n",
       "  </tbody>\n",
       "</table>\n",
       "</div>"
      ],
      "text/plain": [
       "          대분류        중분류      소분류\n",
       "28  스포츠/문화/레저  스포츠/문화/레저       서점\n",
       "48      교육/학원       유아교육     유아교육\n",
       "74      교육/학원         학원  취미/전문학원\n",
       "55         의료       기타의료     기타의료\n",
       "3       요식/유흥   일식/중식/양식       중식"
      ]
     },
     "execution_count": 58,
     "metadata": {},
     "output_type": "execute_result"
    }
   ],
   "source": [
    "# 대/중/소 분류별 어떻게 연결되어있나 확인\n",
    "# sample 여러번 시도하면서 확인하기\n",
    "cd_class[[\"대분류\",\"중분류\",\"소분류\"]].sample(5)"
   ]
  },
  {
   "cell_type": "markdown",
   "id": "0aa75850",
   "metadata": {
    "hidden": true
   },
   "source": [
    "**`중분류의 경우`**\n",
    "<br></br>\n",
    "    1) 대분류와 중분류가 동일한 이름인 경우  \n",
    "    2) 중분류와 소분류가 동일한 이름인 경우  \n",
    "    3) 중분류가 소분류의 통합인 이름인 경우가 확인됨"
   ]
  },
  {
   "cell_type": "code",
   "execution_count": 71,
   "id": "22355e4c",
   "metadata": {
    "hidden": true
   },
   "outputs": [
    {
     "data": {
      "text/plain": [
       "20"
      ]
     },
     "execution_count": 71,
     "metadata": {},
     "output_type": "execute_result"
    }
   ],
   "source": [
    "# 1) 대분류와 중분류가 동일한 경우 구하기\n",
    "sum(cd_class.대분류==cd_class.중분류)"
   ]
  },
  {
   "cell_type": "code",
   "execution_count": 75,
   "id": "ab990c33",
   "metadata": {
    "hidden": true
   },
   "outputs": [
    {
     "data": {
      "text/plain": [
       "17"
      ]
     },
     "execution_count": 75,
     "metadata": {},
     "output_type": "execute_result"
    }
   ],
   "source": [
    "# 2) 중분류와 소분류가 동일한 이름인 경우\n",
    "sum(cd_class.중분류==cd_class.소분류)"
   ]
  },
  {
   "cell_type": "code",
   "execution_count": 78,
   "id": "346da6a8",
   "metadata": {
    "hidden": true
   },
   "outputs": [
    {
     "data": {
      "text/html": [
       "<div>\n",
       "<style scoped>\n",
       "    .dataframe tbody tr th:only-of-type {\n",
       "        vertical-align: middle;\n",
       "    }\n",
       "\n",
       "    .dataframe tbody tr th {\n",
       "        vertical-align: top;\n",
       "    }\n",
       "\n",
       "    .dataframe thead th {\n",
       "        text-align: right;\n",
       "    }\n",
       "</style>\n",
       "<table border=\"1\" class=\"dataframe\">\n",
       "  <thead>\n",
       "    <tr style=\"text-align: right;\">\n",
       "      <th></th>\n",
       "      <th>업종코드</th>\n",
       "      <th>대분류</th>\n",
       "      <th>중분류</th>\n",
       "      <th>소분류</th>\n",
       "    </tr>\n",
       "  </thead>\n",
       "  <tbody>\n",
       "    <tr>\n",
       "      <th>17</th>\n",
       "      <td>ss018</td>\n",
       "      <td>음/식료품</td>\n",
       "      <td>음/식료품</td>\n",
       "      <td>정육점</td>\n",
       "    </tr>\n",
       "    <tr>\n",
       "      <th>18</th>\n",
       "      <td>ss019</td>\n",
       "      <td>음/식료품</td>\n",
       "      <td>음/식료품</td>\n",
       "      <td>농수산물</td>\n",
       "    </tr>\n",
       "    <tr>\n",
       "      <th>19</th>\n",
       "      <td>ss020</td>\n",
       "      <td>음/식료품</td>\n",
       "      <td>음/식료품</td>\n",
       "      <td>기타음/식료품</td>\n",
       "    </tr>\n",
       "    <tr>\n",
       "      <th>24</th>\n",
       "      <td>ss027</td>\n",
       "      <td>스포츠/문화/레저</td>\n",
       "      <td>스포츠/문화/레저</td>\n",
       "      <td>종합레저시설</td>\n",
       "    </tr>\n",
       "    <tr>\n",
       "      <th>25</th>\n",
       "      <td>ss028</td>\n",
       "      <td>스포츠/문화/레저</td>\n",
       "      <td>스포츠/문화/레저</td>\n",
       "      <td>영화/공연</td>\n",
       "    </tr>\n",
       "    <tr>\n",
       "      <th>26</th>\n",
       "      <td>ss029</td>\n",
       "      <td>스포츠/문화/레저</td>\n",
       "      <td>스포츠/문화/레저</td>\n",
       "      <td>스포츠시설</td>\n",
       "    </tr>\n",
       "    <tr>\n",
       "      <th>27</th>\n",
       "      <td>ss030</td>\n",
       "      <td>스포츠/문화/레저</td>\n",
       "      <td>스포츠/문화/레저</td>\n",
       "      <td>취미/오락</td>\n",
       "    </tr>\n",
       "    <tr>\n",
       "      <th>28</th>\n",
       "      <td>ss031</td>\n",
       "      <td>스포츠/문화/레저</td>\n",
       "      <td>스포츠/문화/레저</td>\n",
       "      <td>서점</td>\n",
       "    </tr>\n",
       "    <tr>\n",
       "      <th>56</th>\n",
       "      <td>ss060</td>\n",
       "      <td>가전/가구</td>\n",
       "      <td>가전/가구</td>\n",
       "      <td>가전</td>\n",
       "    </tr>\n",
       "    <tr>\n",
       "      <th>57</th>\n",
       "      <td>ss061</td>\n",
       "      <td>가전/가구</td>\n",
       "      <td>가전/가구</td>\n",
       "      <td>가구</td>\n",
       "    </tr>\n",
       "    <tr>\n",
       "      <th>58</th>\n",
       "      <td>ss062</td>\n",
       "      <td>가전/가구</td>\n",
       "      <td>가전/가구</td>\n",
       "      <td>기타가전/가구</td>\n",
       "    </tr>\n",
       "    <tr>\n",
       "      <th>67</th>\n",
       "      <td>ss081</td>\n",
       "      <td>스포츠/문화/레저</td>\n",
       "      <td>스포츠/문화/레저</td>\n",
       "      <td>실내골프</td>\n",
       "    </tr>\n",
       "    <tr>\n",
       "      <th>68</th>\n",
       "      <td>ss082</td>\n",
       "      <td>스포츠/문화/레저</td>\n",
       "      <td>스포츠/문화/레저</td>\n",
       "      <td>헬스</td>\n",
       "    </tr>\n",
       "    <tr>\n",
       "      <th>69</th>\n",
       "      <td>ss083</td>\n",
       "      <td>스포츠/문화/레저</td>\n",
       "      <td>스포츠/문화/레저</td>\n",
       "      <td>실외골프</td>\n",
       "    </tr>\n",
       "    <tr>\n",
       "      <th>70</th>\n",
       "      <td>ss084</td>\n",
       "      <td>스포츠/문화/레저</td>\n",
       "      <td>스포츠/문화/레저</td>\n",
       "      <td>스키</td>\n",
       "    </tr>\n",
       "  </tbody>\n",
       "</table>\n",
       "</div>"
      ],
      "text/plain": [
       "     업종코드        대분류        중분류      소분류\n",
       "17  ss018      음/식료품      음/식료품      정육점\n",
       "18  ss019      음/식료품      음/식료품     농수산물\n",
       "19  ss020      음/식료품      음/식료품  기타음/식료품\n",
       "24  ss027  스포츠/문화/레저  스포츠/문화/레저   종합레저시설\n",
       "25  ss028  스포츠/문화/레저  스포츠/문화/레저    영화/공연\n",
       "26  ss029  스포츠/문화/레저  스포츠/문화/레저    스포츠시설\n",
       "27  ss030  스포츠/문화/레저  스포츠/문화/레저    취미/오락\n",
       "28  ss031  스포츠/문화/레저  스포츠/문화/레저       서점\n",
       "56  ss060      가전/가구      가전/가구       가전\n",
       "57  ss061      가전/가구      가전/가구       가구\n",
       "58  ss062      가전/가구      가전/가구  기타가전/가구\n",
       "67  ss081  스포츠/문화/레저  스포츠/문화/레저     실내골프\n",
       "68  ss082  스포츠/문화/레저  스포츠/문화/레저       헬스\n",
       "69  ss083  스포츠/문화/레저  스포츠/문화/레저     실외골프\n",
       "70  ss084  스포츠/문화/레저  스포츠/문화/레저       스키"
      ]
     },
     "execution_count": 78,
     "metadata": {},
     "output_type": "execute_result"
    }
   ],
   "source": [
    "# 3) 중분류가 소분류의 통합인 경우\n",
    "cd_class[(cd_class.중분류.apply(lambda x: \"/\"in list(x)))\n",
    "         &(cd_class.대분류==cd_class.중분류)\n",
    "         &(cd_class.중분류!=cd_class.소분류)]"
   ]
  },
  {
   "cell_type": "markdown",
   "id": "7decbe3c",
   "metadata": {
    "hidden": true
   },
   "source": [
    "⭐ 중분류를 제거하고 **대분류 / 소분류**만 사용하기"
   ]
  },
  {
   "cell_type": "markdown",
   "id": "87ceaa14",
   "metadata": {
    "heading_collapsed": true,
    "hidden": true
   },
   "source": [
    "### 결측값 확인하기"
   ]
  },
  {
   "cell_type": "code",
   "execution_count": 79,
   "id": "4c1b9248",
   "metadata": {
    "hidden": true
   },
   "outputs": [
    {
     "data": {
      "text/plain": [
       "업종코드    0\n",
       "대분류     0\n",
       "중분류     0\n",
       "소분류     0\n",
       "dtype: int64"
      ]
     },
     "execution_count": 79,
     "metadata": {},
     "output_type": "execute_result"
    }
   ],
   "source": [
    "cd_class.isnull().sum()"
   ]
  },
  {
   "cell_type": "markdown",
   "id": "8748d406",
   "metadata": {},
   "source": [
    "# 집계구별"
   ]
  },
  {
   "cell_type": "markdown",
   "id": "9052c39e",
   "metadata": {},
   "source": [
    "* reg_time : **집계구별**  **일별 시간대별** 카드소비패턴\n",
    "* reg_adr : **집계구별**  **일별 소비지역별** 카드소비패턴"
   ]
  },
  {
   "cell_type": "markdown",
   "id": "f6d53ebe",
   "metadata": {
    "heading_collapsed": true
   },
   "source": [
    "## 데이터 불러오기 & 살펴보기"
   ]
  },
  {
   "cell_type": "markdown",
   "id": "6628aef6",
   "metadata": {
    "hidden": true
   },
   "source": [
    "🌞**집계구별 일별 시간대별 카드소비패턴(reg_time)**"
   ]
  },
  {
   "cell_type": "code",
   "execution_count": 123,
   "id": "3d471ab7",
   "metadata": {
    "hidden": true
   },
   "outputs": [
    {
     "data": {
      "text/html": [
       "<div>\n",
       "<style scoped>\n",
       "    .dataframe tbody tr th:only-of-type {\n",
       "        vertical-align: middle;\n",
       "    }\n",
       "\n",
       "    .dataframe tbody tr th {\n",
       "        vertical-align: top;\n",
       "    }\n",
       "\n",
       "    .dataframe thead th {\n",
       "        text-align: right;\n",
       "    }\n",
       "</style>\n",
       "<table border=\"1\" class=\"dataframe\">\n",
       "  <thead>\n",
       "    <tr style=\"text-align: right;\">\n",
       "      <th></th>\n",
       "      <th>업종대분류(UPJONG_CLASS1)</th>\n",
       "      <th>기준일자(YMD)</th>\n",
       "      <th>시간대구간(TIME)</th>\n",
       "      <th>고객주소집계구별(TOT_REG_CD)</th>\n",
       "      <th>카드이용금액계(AMT_CORR)</th>\n",
       "      <th>카드이용건수계(USECT_CORR)</th>\n",
       "    </tr>\n",
       "  </thead>\n",
       "  <tbody>\n",
       "    <tr>\n",
       "      <th>389</th>\n",
       "      <td>의료</td>\n",
       "      <td>20200313</td>\n",
       "      <td>5</td>\n",
       "      <td>1116059010014</td>\n",
       "      <td>1279431</td>\n",
       "      <td>15</td>\n",
       "    </tr>\n",
       "    <tr>\n",
       "      <th>201</th>\n",
       "      <td>주유</td>\n",
       "      <td>20191106</td>\n",
       "      <td>3</td>\n",
       "      <td>1121079020116</td>\n",
       "      <td>126253</td>\n",
       "      <td>10</td>\n",
       "    </tr>\n",
       "  </tbody>\n",
       "</table>\n",
       "</div>"
      ],
      "text/plain": [
       "    업종대분류(UPJONG_CLASS1)  기준일자(YMD)  시간대구간(TIME)  고객주소집계구별(TOT_REG_CD)  \\\n",
       "389                   의료   20200313            5         1116059010014   \n",
       "201                   주유   20191106            3         1121079020116   \n",
       "\n",
       "     카드이용금액계(AMT_CORR)  카드이용건수계(USECT_CORR)  \n",
       "389            1279431                   15  \n",
       "201             126253                   10  "
      ]
     },
     "execution_count": 123,
     "metadata": {},
     "output_type": "execute_result"
    }
   ],
   "source": [
    "reg_time = pd.read_csv(path+'집계구별 일별시간대별 카드소비패턴.csv', encoding='cp949')\n",
    "reg_time.sample(2)"
   ]
  },
  {
   "cell_type": "code",
   "execution_count": 114,
   "id": "0e381b8b",
   "metadata": {
    "hidden": true
   },
   "outputs": [
    {
     "data": {
      "text/plain": [
       "(500, 6)"
      ]
     },
     "execution_count": 114,
     "metadata": {},
     "output_type": "execute_result"
    }
   ],
   "source": [
    "reg_time.shape"
   ]
  },
  {
   "cell_type": "code",
   "execution_count": 27,
   "id": "00e6ba22",
   "metadata": {
    "hidden": true
   },
   "outputs": [
    {
     "name": "stdout",
     "output_type": "stream",
     "text": [
      "<class 'pandas.core.frame.DataFrame'>\n",
      "RangeIndex: 500 entries, 0 to 499\n",
      "Data columns (total 6 columns):\n",
      " #   Column                Non-Null Count  Dtype \n",
      "---  ------                --------------  ----- \n",
      " 0   업종대분류(UPJONG_CLASS1)  500 non-null    object\n",
      " 1   기준일자(YMD)             500 non-null    int64 \n",
      " 2   시간대구간(TIME)           500 non-null    int64 \n",
      " 3   고객주소집계구별(TOT_REG_CD)  500 non-null    int64 \n",
      " 4   카드이용금액계(AMT_CORR)     500 non-null    int64 \n",
      " 5   카드이용건수계(USECT_CORR)   500 non-null    int64 \n",
      "dtypes: int64(5), object(1)\n",
      "memory usage: 23.6+ KB\n"
     ]
    }
   ],
   "source": [
    "reg_time.info()"
   ]
  },
  {
   "cell_type": "markdown",
   "id": "9b16236b",
   "metadata": {
    "hidden": true
   },
   "source": [
    "🌞 **집계구별 일별소비지역별 카드소비패턴(reg_adr)**"
   ]
  },
  {
   "cell_type": "code",
   "execution_count": 115,
   "id": "13193665",
   "metadata": {
    "hidden": true
   },
   "outputs": [
    {
     "data": {
      "text/html": [
       "<div>\n",
       "<style scoped>\n",
       "    .dataframe tbody tr th:only-of-type {\n",
       "        vertical-align: middle;\n",
       "    }\n",
       "\n",
       "    .dataframe tbody tr th {\n",
       "        vertical-align: top;\n",
       "    }\n",
       "\n",
       "    .dataframe thead th {\n",
       "        text-align: right;\n",
       "    }\n",
       "</style>\n",
       "<table border=\"1\" class=\"dataframe\">\n",
       "  <thead>\n",
       "    <tr style=\"text-align: right;\">\n",
       "      <th></th>\n",
       "      <th>가맹점주소광역시도(SIDO)</th>\n",
       "      <th>가맹점주소시군구(SGG)</th>\n",
       "      <th>업종대분류(UPJONG_CLASS1)</th>\n",
       "      <th>기준일자(YMD)</th>\n",
       "      <th>고객주소집계구별(TOT_REG_CD)</th>\n",
       "      <th>카드이용금액계(AMT_CORR)</th>\n",
       "      <th>카드이용건수계(USECT_CORR)</th>\n",
       "    </tr>\n",
       "  </thead>\n",
       "  <tbody>\n",
       "    <tr>\n",
       "      <th>495</th>\n",
       "      <td>서울</td>\n",
       "      <td>종로구</td>\n",
       "      <td>가전/가구</td>\n",
       "      <td>20201108</td>\n",
       "      <td>1120055030005</td>\n",
       "      <td>55330</td>\n",
       "      <td>10</td>\n",
       "    </tr>\n",
       "    <tr>\n",
       "      <th>35</th>\n",
       "      <td>서울</td>\n",
       "      <td>NaN</td>\n",
       "      <td>요식/유흥</td>\n",
       "      <td>20180420</td>\n",
       "      <td>1119061030002</td>\n",
       "      <td>22132</td>\n",
       "      <td>20</td>\n",
       "    </tr>\n",
       "  </tbody>\n",
       "</table>\n",
       "</div>"
      ],
      "text/plain": [
       "    가맹점주소광역시도(SIDO) 가맹점주소시군구(SGG) 업종대분류(UPJONG_CLASS1)  기준일자(YMD)  \\\n",
       "495              서울           종로구                가전/가구   20201108   \n",
       "35               서울           NaN                요식/유흥   20180420   \n",
       "\n",
       "     고객주소집계구별(TOT_REG_CD)  카드이용금액계(AMT_CORR)  카드이용건수계(USECT_CORR)  \n",
       "495         1120055030005              55330                   10  \n",
       "35          1119061030002              22132                   20  "
      ]
     },
     "execution_count": 115,
     "metadata": {},
     "output_type": "execute_result"
    }
   ],
   "source": [
    "reg_adr = pd.read_csv(path+'집계구별 일별소비지역별 카드소비패턴.csv', encoding='cp949')\n",
    "reg_adr.sample(2)"
   ]
  },
  {
   "cell_type": "code",
   "execution_count": 28,
   "id": "034471db",
   "metadata": {
    "hidden": true,
    "scrolled": true
   },
   "outputs": [
    {
     "name": "stdout",
     "output_type": "stream",
     "text": [
      "<class 'pandas.core.frame.DataFrame'>\n",
      "RangeIndex: 500 entries, 0 to 499\n",
      "Data columns (total 7 columns):\n",
      " #   Column                Non-Null Count  Dtype \n",
      "---  ------                --------------  ----- \n",
      " 0   가맹점주소광역시도(SIDO)       500 non-null    object\n",
      " 1   가맹점주소시군구(SGG)         442 non-null    object\n",
      " 2   업종대분류(UPJONG_CLASS1)  500 non-null    object\n",
      " 3   기준일자(YMD)             500 non-null    int64 \n",
      " 4   고객주소집계구별(TOT_REG_CD)  500 non-null    int64 \n",
      " 5   카드이용금액계(AMT_CORR)     500 non-null    int64 \n",
      " 6   카드이용건수계(USECT_CORR)   500 non-null    int64 \n",
      "dtypes: int64(4), object(3)\n",
      "memory usage: 27.5+ KB\n"
     ]
    }
   ],
   "source": [
    "reg_adr.info()"
   ]
  },
  {
   "cell_type": "code",
   "execution_count": 81,
   "id": "47dae3a4",
   "metadata": {
    "hidden": true
   },
   "outputs": [
    {
     "data": {
      "text/plain": [
       "(500, 7)"
      ]
     },
     "execution_count": 81,
     "metadata": {},
     "output_type": "execute_result"
    }
   ],
   "source": [
    "reg_adr.shape"
   ]
  },
  {
   "cell_type": "markdown",
   "id": "e8b82ed2",
   "metadata": {
    "heading_collapsed": true
   },
   "source": [
    "## 💁‍♀️ 데이터를 살펴본 결과 "
   ]
  },
  {
   "cell_type": "markdown",
   "id": "24006b7e",
   "metadata": {
    "hidden": true
   },
   "source": [
    "**< reg_time >** \n",
    "* 데이터 모두 열 이름 바꾸기 (영어 없애기)\n",
    "* 열 중 업종대분류/고객주소집계구별-> 대분류/고객집계구별로 바꾸기\n",
    "* 기준일자는 date 타입으로 바꾸기  \n",
    "* 결측값 확인하기\n",
    "* 이상치 확인하기  \n",
    "* 시간대구간은 어떤 것을 의미하는지 value_counts로 확인하고, 이후 타입 선택과 어떻게 처리할지 생각해보기  \n",
    "\n",
    "**< reg_adr >** \n",
    "* 데이터 모두 열 이름 바꾸기 (영어 없애기)\n",
    "* 열 중 가맹점주소광역시도/가맹점주소시군구/고객주소집계구별 -> 가맹점광역시도/가맹점시군구/고객집계구별로 바꾸기\n",
    "* 기준일자는 date 타입으로 바꾸기  \n",
    "* 결측값 확인하기\n",
    "* 이상치 확인하기\n",
    "\n",
    "⭐**이후, 행 수가 동일한 점을 보아, reg_time과 reg_adr를 합칠 수 있나 확인하기**"
   ]
  },
  {
   "cell_type": "markdown",
   "id": "051fc648",
   "metadata": {
    "heading_collapsed": true,
    "hidden": true
   },
   "source": [
    "### reg_time"
   ]
  },
  {
   "cell_type": "markdown",
   "id": "9f7ccbdd",
   "metadata": {
    "heading_collapsed": true,
    "hidden": true
   },
   "source": [
    "#### 데이터 모두 열 이름 바꾸기 (영어 없애기)"
   ]
  },
  {
   "cell_type": "code",
   "execution_count": 88,
   "id": "ae57530c",
   "metadata": {
    "hidden": true
   },
   "outputs": [
    {
     "data": {
      "text/plain": [
       "Index(['업종대분류(UPJONG_CLASS1)', '기준일자(YMD)', '시간대구간(TIME)',\n",
       "       '고객주소집계구별(TOT_REG_CD)', '카드이용금액계(AMT_CORR)', '카드이용건수계(USECT_CORR)'],\n",
       "      dtype='object')"
      ]
     },
     "execution_count": 88,
     "metadata": {},
     "output_type": "execute_result"
    }
   ],
   "source": [
    "reg_time.columns"
   ]
  },
  {
   "cell_type": "code",
   "execution_count": 141,
   "id": "1e482cdc",
   "metadata": {
    "hidden": true
   },
   "outputs": [],
   "source": [
    "reg_time.columns = ['대분류', '기준일자', '시간대구간', '고객집계구별', '카드이용금액계', '카드이용건수계']"
   ]
  },
  {
   "cell_type": "code",
   "execution_count": 142,
   "id": "b9899070",
   "metadata": {
    "hidden": true
   },
   "outputs": [
    {
     "data": {
      "text/html": [
       "<div>\n",
       "<style scoped>\n",
       "    .dataframe tbody tr th:only-of-type {\n",
       "        vertical-align: middle;\n",
       "    }\n",
       "\n",
       "    .dataframe tbody tr th {\n",
       "        vertical-align: top;\n",
       "    }\n",
       "\n",
       "    .dataframe thead th {\n",
       "        text-align: right;\n",
       "    }\n",
       "</style>\n",
       "<table border=\"1\" class=\"dataframe\">\n",
       "  <thead>\n",
       "    <tr style=\"text-align: right;\">\n",
       "      <th></th>\n",
       "      <th>대분류</th>\n",
       "      <th>기준일자</th>\n",
       "      <th>시간대구간</th>\n",
       "      <th>고객집계구별</th>\n",
       "      <th>카드이용금액계</th>\n",
       "      <th>카드이용건수계</th>\n",
       "    </tr>\n",
       "  </thead>\n",
       "  <tbody>\n",
       "    <tr>\n",
       "      <th>34</th>\n",
       "      <td>의료</td>\n",
       "      <td>20190102</td>\n",
       "      <td>2</td>\n",
       "      <td>1116054040206</td>\n",
       "      <td>598570</td>\n",
       "      <td>5</td>\n",
       "    </tr>\n",
       "  </tbody>\n",
       "</table>\n",
       "</div>"
      ],
      "text/plain": [
       "   대분류      기준일자  시간대구간         고객집계구별  카드이용금액계  카드이용건수계\n",
       "34  의료  20190102      2  1116054040206   598570        5"
      ]
     },
     "execution_count": 142,
     "metadata": {},
     "output_type": "execute_result"
    }
   ],
   "source": [
    "reg_time.sample()"
   ]
  },
  {
   "cell_type": "markdown",
   "id": "8ce1f01b",
   "metadata": {
    "heading_collapsed": true,
    "hidden": true
   },
   "source": [
    "#### 기준일자는 date 타입으로 바꾸기"
   ]
  },
  {
   "cell_type": "code",
   "execution_count": 98,
   "id": "12fb5a5e",
   "metadata": {
    "hidden": true
   },
   "outputs": [
    {
     "data": {
      "text/plain": [
       "dtype('int64')"
      ]
     },
     "execution_count": 98,
     "metadata": {},
     "output_type": "execute_result"
    }
   ],
   "source": [
    "# 현재 타입\n",
    "reg_time.기준일자.dtype"
   ]
  },
  {
   "cell_type": "code",
   "execution_count": 111,
   "id": "cae0c33a",
   "metadata": {
    "hidden": true
   },
   "outputs": [
    {
     "name": "stdout",
     "output_type": "stream",
     "text": [
      "0      20161004\n",
      "1      20210303\n",
      "2      20170606\n",
      "3      20171206\n",
      "4      20160909\n",
      "         ...   \n",
      "495    20170727\n",
      "496    20190406\n",
      "497    20210107\n",
      "498    20200426\n",
      "499    20160625\n",
      "Name: 기준일자, Length: 500, dtype: object\n",
      "0     2016-10-04\n",
      "1     2021-03-03\n",
      "2     2017-06-06\n",
      "3     2017-12-06\n",
      "4     2016-09-09\n",
      "         ...    \n",
      "495   2017-07-27\n",
      "496   2019-04-06\n",
      "497   2021-01-07\n",
      "498   2020-04-26\n",
      "499   2016-06-25\n",
      "Name: 기준일자, Length: 500, dtype: datetime64[ns]\n"
     ]
    }
   ],
   "source": [
    "# 문자열로 바꾸고 이후 날짜형타입으로 바꾸기\n",
    "\n",
    "reg_time.기준일자 = reg_time.기준일자.astype('str')\n",
    "print(reg_time.기준일자)\n",
    "reg_time.기준일자 = pd.to_datetime(reg_time.기준일자)\n",
    "print(reg_time.기준일자)"
   ]
  },
  {
   "cell_type": "markdown",
   "id": "21b66674",
   "metadata": {
    "heading_collapsed": true,
    "hidden": true
   },
   "source": [
    "#### 결측값 확인하기"
   ]
  },
  {
   "cell_type": "code",
   "execution_count": 143,
   "id": "e27ae686",
   "metadata": {
    "hidden": true
   },
   "outputs": [
    {
     "data": {
      "text/plain": [
       "대분류        0\n",
       "기준일자       0\n",
       "시간대구간      0\n",
       "고객집계구별     0\n",
       "카드이용금액계    0\n",
       "카드이용건수계    0\n",
       "dtype: int64"
      ]
     },
     "execution_count": 143,
     "metadata": {},
     "output_type": "execute_result"
    }
   ],
   "source": [
    "reg_time.isnull().sum()"
   ]
  },
  {
   "cell_type": "markdown",
   "id": "01894a01",
   "metadata": {
    "heading_collapsed": true,
    "hidden": true
   },
   "source": [
    "#### 이상치 확인하기"
   ]
  },
  {
   "cell_type": "code",
   "execution_count": 152,
   "id": "bdb2d21e",
   "metadata": {
    "hidden": true
   },
   "outputs": [],
   "source": [
    "plt.rc(\"font\", family=\"Malgun Gothic\")"
   ]
  },
  {
   "cell_type": "code",
   "execution_count": 157,
   "id": "540ea793",
   "metadata": {
    "hidden": true
   },
   "outputs": [
    {
     "data": {
      "text/plain": [
       "count        500.00000\n",
       "mean      657846.89400\n",
       "std      2221250.63432\n",
       "min            5.00000\n",
       "25%        78505.50000\n",
       "50%       269834.50000\n",
       "75%       632651.00000\n",
       "max     40847926.00000\n",
       "Name: 카드이용금액계, dtype: float64"
      ]
     },
     "execution_count": 157,
     "metadata": {},
     "output_type": "execute_result"
    }
   ],
   "source": [
    "#지수표현없애서 출력하기\n",
    "pd.options.display.float_format = '{:.5f}'.format\n",
    "reg_time.카드이용금액계.describe()"
   ]
  },
  {
   "cell_type": "code",
   "execution_count": 158,
   "id": "7aeff3cf",
   "metadata": {
    "hidden": true,
    "scrolled": true
   },
   "outputs": [
    {
     "data": {
      "text/plain": [
       "<AxesSubplot:>"
      ]
     },
     "execution_count": 158,
     "metadata": {},
     "output_type": "execute_result"
    },
    {
     "data": {
      "image/png": "[encoded data removed]",
      "text/plain": [
       "<Figure size 432x288 with 1 Axes>"
      ]
     },
     "metadata": {
      "needs_background": "light"
     },
     "output_type": "display_data"
    }
   ],
   "source": [
    "pd.options.display.float_format = '{:.5f}'.format\n",
    "sns.boxplot(data=reg_time.카드이용금액계)"
   ]
  },
  {
   "cell_type": "markdown",
   "id": "79c91479",
   "metadata": {
    "hidden": true
   },
   "source": [
    "===> 최대최소 차이가 너무 나서 표현식 바꿀 것인지, 최대값을 이상치 처리할지 정하기"
   ]
  },
  {
   "cell_type": "markdown",
   "id": "8ff2348a",
   "metadata": {
    "heading_collapsed": true,
    "hidden": true
   },
   "source": [
    "#### 시간대구간은 어떤 것을 의미하는지 value_counts로 확인하고, 이후 타입 선택과 어떻게 처리할지 생각해보기 "
   ]
  },
  {
   "cell_type": "code",
   "execution_count": 130,
   "id": "01147f7a",
   "metadata": {
    "hidden": true
   },
   "outputs": [
    {
     "data": {
      "text/plain": [
       "3    111\n",
       "5    108\n",
       "4    107\n",
       "6     71\n",
       "2     71\n",
       "1     32\n",
       "Name: 시간대구간, dtype: int64"
      ]
     },
     "execution_count": 130,
     "metadata": {},
     "output_type": "execute_result"
    }
   ],
   "source": [
    "reg_time.시간대구간.value_counts()"
   ]
  },
  {
   "cell_type": "markdown",
   "id": "2d32fde7",
   "metadata": {
    "hidden": true
   },
   "source": [
    "==> 시간대구간의 경우 서울특별시빅데이터캠프에 물어보기"
   ]
  },
  {
   "cell_type": "markdown",
   "id": "f6ade17b",
   "metadata": {
    "heading_collapsed": true,
    "hidden": true
   },
   "source": [
    "### reg_adr"
   ]
  },
  {
   "cell_type": "markdown",
   "id": "0e8003c8",
   "metadata": {
    "heading_collapsed": true,
    "hidden": true
   },
   "source": [
    "#### 데이터 모두 열 이름 바꾸기 (영어 없애기)"
   ]
  },
  {
   "cell_type": "code",
   "execution_count": 132,
   "id": "630b6354",
   "metadata": {
    "hidden": true
   },
   "outputs": [
    {
     "data": {
      "text/plain": [
       "Index(['가맹점주소광역시도(SIDO)', '가맹점주소시군구(SGG)', '업종대분류(UPJONG_CLASS1)', '기준일자(YMD)',\n",
       "       '고객주소집계구별(TOT_REG_CD)', '카드이용금액계(AMT_CORR)', '카드이용건수계(USECT_CORR)'],\n",
       "      dtype='object')"
      ]
     },
     "execution_count": 132,
     "metadata": {},
     "output_type": "execute_result"
    }
   ],
   "source": [
    "reg_adr.columns"
   ]
  },
  {
   "cell_type": "code",
   "execution_count": 144,
   "id": "4619ada4",
   "metadata": {
    "hidden": true
   },
   "outputs": [],
   "source": [
    "reg_adr.columns = ['가맹점광역시도', '가맹점시군구', '대분류', '기준일자',\n",
    "       '고객집계구별', '카드이용금액계', '카드이용건수계']"
   ]
  },
  {
   "cell_type": "code",
   "execution_count": 145,
   "id": "c83093a4",
   "metadata": {
    "hidden": true
   },
   "outputs": [
    {
     "data": {
      "text/html": [
       "<div>\n",
       "<style scoped>\n",
       "    .dataframe tbody tr th:only-of-type {\n",
       "        vertical-align: middle;\n",
       "    }\n",
       "\n",
       "    .dataframe tbody tr th {\n",
       "        vertical-align: top;\n",
       "    }\n",
       "\n",
       "    .dataframe thead th {\n",
       "        text-align: right;\n",
       "    }\n",
       "</style>\n",
       "<table border=\"1\" class=\"dataframe\">\n",
       "  <thead>\n",
       "    <tr style=\"text-align: right;\">\n",
       "      <th></th>\n",
       "      <th>가맹점광역시도</th>\n",
       "      <th>가맹점시군구</th>\n",
       "      <th>대분류</th>\n",
       "      <th>기준일자</th>\n",
       "      <th>고객집계구별</th>\n",
       "      <th>카드이용금액계</th>\n",
       "      <th>카드이용건수계</th>\n",
       "    </tr>\n",
       "  </thead>\n",
       "  <tbody>\n",
       "    <tr>\n",
       "      <th>384</th>\n",
       "      <td>서울</td>\n",
       "      <td>성남시</td>\n",
       "      <td>요식/유흥</td>\n",
       "      <td>20161001</td>\n",
       "      <td>1108084010004</td>\n",
       "      <td>128265</td>\n",
       "      <td>5</td>\n",
       "    </tr>\n",
       "  </tbody>\n",
       "</table>\n",
       "</div>"
      ],
      "text/plain": [
       "    가맹점광역시도 가맹점시군구    대분류      기준일자         고객집계구별  카드이용금액계  카드이용건수계\n",
       "384      서울    성남시  요식/유흥  20161001  1108084010004   128265        5"
      ]
     },
     "execution_count": 145,
     "metadata": {},
     "output_type": "execute_result"
    }
   ],
   "source": [
    "reg_adr.sample()"
   ]
  },
  {
   "cell_type": "markdown",
   "id": "58f65960",
   "metadata": {
    "heading_collapsed": true,
    "hidden": true
   },
   "source": [
    "#### 기준일자는 date 타입으로 바꾸기"
   ]
  },
  {
   "cell_type": "code",
   "execution_count": 146,
   "id": "1e8bc3fc",
   "metadata": {
    "hidden": true
   },
   "outputs": [
    {
     "data": {
      "text/plain": [
       "dtype('int64')"
      ]
     },
     "execution_count": 146,
     "metadata": {},
     "output_type": "execute_result"
    }
   ],
   "source": [
    "# 현재 타입\n",
    "reg_adr.기준일자.dtype"
   ]
  },
  {
   "cell_type": "code",
   "execution_count": 148,
   "id": "2af19adf",
   "metadata": {
    "hidden": true
   },
   "outputs": [
    {
     "name": "stdout",
     "output_type": "stream",
     "text": [
      "0      20201021\n",
      "1      20170312\n",
      "2      20161205\n",
      "3      20201210\n",
      "4      20210216\n",
      "         ...   \n",
      "495    20201108\n",
      "496    20180901\n",
      "497    20160326\n",
      "498    20160804\n",
      "499    20210628\n",
      "Name: 기준일자, Length: 500, dtype: object\n",
      "0     2020-10-21\n",
      "1     2017-03-12\n",
      "2     2016-12-05\n",
      "3     2020-12-10\n",
      "4     2021-02-16\n",
      "         ...    \n",
      "495   2020-11-08\n",
      "496   2018-09-01\n",
      "497   2016-03-26\n",
      "498   2016-08-04\n",
      "499   2021-06-28\n",
      "Name: 기준일자, Length: 500, dtype: datetime64[ns]\n"
     ]
    }
   ],
   "source": [
    "# 문자열로 바꾸고 이후 날짜형타입으로 바꾸기\n",
    "\n",
    "reg_adr.기준일자 = reg_adr.기준일자.astype('str')\n",
    "print(reg_adr.기준일자)\n",
    "\n",
    "reg_adr.기준일자 = pd.to_datetime(reg_adr.기준일자)\n",
    "print(reg_adr.기준일자)"
   ]
  },
  {
   "cell_type": "markdown",
   "id": "bb2252a7",
   "metadata": {
    "heading_collapsed": true,
    "hidden": true
   },
   "source": [
    "#### 결측값 확인하기"
   ]
  },
  {
   "cell_type": "code",
   "execution_count": 131,
   "id": "f3549757",
   "metadata": {
    "hidden": true
   },
   "outputs": [
    {
     "data": {
      "text/plain": [
       "가맹점주소광역시도(SIDO)          0\n",
       "가맹점주소시군구(SGG)           58\n",
       "업종대분류(UPJONG_CLASS1)     0\n",
       "기준일자(YMD)                0\n",
       "고객주소집계구별(TOT_REG_CD)     0\n",
       "카드이용금액계(AMT_CORR)        0\n",
       "카드이용건수계(USECT_CORR)      0\n",
       "dtype: int64"
      ]
     },
     "execution_count": 131,
     "metadata": {},
     "output_type": "execute_result"
    }
   ],
   "source": [
    "reg_adr.isnull().sum()"
   ]
  },
  {
   "cell_type": "code",
   "execution_count": 169,
   "id": "217302db",
   "metadata": {
    "hidden": true
   },
   "outputs": [
    {
     "data": {
      "text/plain": [
       "<AxesSubplot:>"
      ]
     },
     "execution_count": 169,
     "metadata": {},
     "output_type": "execute_result"
    },
    {
     "data": {
      "image/png": "[encoded data removed]",
      "text/plain": [
       "<Figure size 720x216 with 2 Axes>"
      ]
     },
     "metadata": {
      "needs_background": "light"
     },
     "output_type": "display_data"
    }
   ],
   "source": [
    "# 결측값 찾기 - 시각화\n",
    "import missingno as msno\n",
    "msno.matrix(reg_adr,figsize=(10,3))"
   ]
  },
  {
   "cell_type": "markdown",
   "id": "15fa892f",
   "metadata": {
    "heading_collapsed": true,
    "hidden": true
   },
   "source": [
    "#### 이상치 확인하기"
   ]
  },
  {
   "cell_type": "code",
   "execution_count": 170,
   "id": "dbf42c8a",
   "metadata": {
    "hidden": true
   },
   "outputs": [
    {
     "data": {
      "text/plain": [
       "count       500.00000\n",
       "mean     321541.92600\n",
       "std      707236.82556\n",
       "min        2515.00000\n",
       "25%       37712.50000\n",
       "50%      112295.00000\n",
       "75%      274147.50000\n",
       "max     6850860.00000\n",
       "Name: 카드이용금액계, dtype: float64"
      ]
     },
     "execution_count": 170,
     "metadata": {},
     "output_type": "execute_result"
    }
   ],
   "source": [
    "#지수표현없애서 출력하기\n",
    "pd.options.display.float_format = '{:.5f}'.format\n",
    "reg_adr.카드이용금액계.describe()"
   ]
  },
  {
   "cell_type": "code",
   "execution_count": 171,
   "id": "909d5f01",
   "metadata": {
    "hidden": true
   },
   "outputs": [
    {
     "data": {
      "text/plain": [
       "<AxesSubplot:>"
      ]
     },
     "execution_count": 171,
     "metadata": {},
     "output_type": "execute_result"
    },
    {
     "data": {
      "image/png": "[encoded data removed]",
      "text/plain": [
       "<Figure size 432x288 with 1 Axes>"
      ]
     },
     "metadata": {
      "needs_background": "light"
     },
     "output_type": "display_data"
    }
   ],
   "source": [
    "pd.options.display.float_format = '{:.5f}'.format\n",
    "sns.boxplot(data=reg_time.카드이용금액계)"
   ]
  },
  {
   "cell_type": "markdown",
   "id": "d4dadc90",
   "metadata": {
    "hidden": true
   },
   "source": [
    "===> 최대최소 차이가 너무 나서 표현식 바꿀 것인지, 최대값을 이상치 처리할지 정하기"
   ]
  },
  {
   "cell_type": "markdown",
   "id": "5f7cc28e",
   "metadata": {},
   "source": [
    "## reg_time과 reg_adr를 합칠 수 있나?"
   ]
  },
  {
   "cell_type": "code",
   "execution_count": 174,
   "id": "7137b561",
   "metadata": {},
   "outputs": [],
   "source": [
    "# 동일한 열 확인하기\n"
   ]
  },
  {
   "cell_type": "code",
   "execution_count": null,
   "id": "64133a60",
   "metadata": {},
   "outputs": [],
   "source": []
  },
  {
   "cell_type": "code",
   "execution_count": null,
   "id": "b2a1b165",
   "metadata": {},
   "outputs": [],
   "source": []
  },
  {
   "cell_type": "code",
   "execution_count": null,
   "id": "a042ecb7",
   "metadata": {},
   "outputs": [],
   "source": []
  },
  {
   "cell_type": "code",
   "execution_count": null,
   "id": "c7ef687a",
   "metadata": {},
   "outputs": [],
   "source": []
  },
  {
   "cell_type": "code",
   "execution_count": null,
   "id": "8fd0258a",
   "metadata": {},
   "outputs": [],
   "source": []
  },
  {
   "cell_type": "code",
   "execution_count": null,
   "id": "380cd00c",
   "metadata": {},
   "outputs": [],
   "source": []
  },
  {
   "cell_type": "code",
   "execution_count": null,
   "id": "f35cb768",
   "metadata": {},
   "outputs": [],
   "source": []
  },
  {
   "cell_type": "code",
   "execution_count": null,
   "id": "5665947f",
   "metadata": {},
   "outputs": [],
   "source": []
  },
  {
   "cell_type": "code",
   "execution_count": null,
   "id": "4821d0ff",
   "metadata": {},
   "outputs": [],
   "source": []
  },
  {
   "cell_type": "code",
   "execution_count": null,
   "id": "be298bc7",
   "metadata": {},
   "outputs": [],
   "source": []
  },
  {
   "cell_type": "code",
   "execution_count": null,
   "id": "043c941a",
   "metadata": {},
   "outputs": [],
   "source": []
  },
  {
   "cell_type": "code",
   "execution_count": null,
   "id": "427f3393",
   "metadata": {},
   "outputs": [],
   "source": []
  },
  {
   "cell_type": "code",
   "execution_count": null,
   "id": "b1590f11",
   "metadata": {},
   "outputs": [],
   "source": []
  },
  {
   "cell_type": "markdown",
   "id": "6e835124",
   "metadata": {
    "heading_collapsed": true
   },
   "source": [
    "# 블록별 데이터"
   ]
  },
  {
   "cell_type": "code",
   "execution_count": 21,
   "id": "0434d2ce",
   "metadata": {
    "hidden": true
   },
   "outputs": [
    {
     "data": {
      "text/html": [
       "<div>\n",
       "<style scoped>\n",
       "    .dataframe tbody tr th:only-of-type {\n",
       "        vertical-align: middle;\n",
       "    }\n",
       "\n",
       "    .dataframe tbody tr th {\n",
       "        vertical-align: top;\n",
       "    }\n",
       "\n",
       "    .dataframe thead th {\n",
       "        text-align: right;\n",
       "    }\n",
       "</style>\n",
       "<table border=\"1\" class=\"dataframe\">\n",
       "  <thead>\n",
       "    <tr style=\"text-align: right;\">\n",
       "      <th></th>\n",
       "      <th>서울시민업종코드(UPJONG_CD)</th>\n",
       "      <th>기준년월(YM)</th>\n",
       "      <th>시간대구간(TIME)</th>\n",
       "      <th>고객주소블록코드(BLOCK_CD)</th>\n",
       "      <th>카드이용금액계(AMT_CORR)</th>\n",
       "      <th>소액결제건수(MICRO_PYM)</th>\n",
       "    </tr>\n",
       "  </thead>\n",
       "  <tbody>\n",
       "    <tr>\n",
       "      <th>419</th>\n",
       "      <td>SS066</td>\n",
       "      <td>201605</td>\n",
       "      <td>1</td>\n",
       "      <td>8651</td>\n",
       "      <td>35</td>\n",
       "      <td>20</td>\n",
       "    </tr>\n",
       "    <tr>\n",
       "      <th>322</th>\n",
       "      <td>SS013</td>\n",
       "      <td>201810</td>\n",
       "      <td>5</td>\n",
       "      <td>415521</td>\n",
       "      <td>80</td>\n",
       "      <td>5</td>\n",
       "    </tr>\n",
       "  </tbody>\n",
       "</table>\n",
       "</div>"
      ],
      "text/plain": [
       "    서울시민업종코드(UPJONG_CD)  기준년월(YM)  시간대구간(TIME)  고객주소블록코드(BLOCK_CD)  \\\n",
       "419               SS066    201605            1                8651   \n",
       "322               SS013    201810            5              415521   \n",
       "\n",
       "     카드이용금액계(AMT_CORR)  소액결제건수(MICRO_PYM)  \n",
       "419                 35                 20  \n",
       "322                 80                  5  "
      ]
     },
     "execution_count": 21,
     "metadata": {},
     "output_type": "execute_result"
    }
   ],
   "source": [
    "pd.read_csv(path+'블록별 시간대별소액결제건수 카드소비패턴.csv', encoding='cp949').sample(2)"
   ]
  },
  {
   "cell_type": "code",
   "execution_count": 22,
   "id": "a756073a",
   "metadata": {
    "hidden": true
   },
   "outputs": [
    {
     "data": {
      "text/html": [
       "<div>\n",
       "<style scoped>\n",
       "    .dataframe tbody tr th:only-of-type {\n",
       "        vertical-align: middle;\n",
       "    }\n",
       "\n",
       "    .dataframe tbody tr th {\n",
       "        vertical-align: top;\n",
       "    }\n",
       "\n",
       "    .dataframe thead th {\n",
       "        text-align: right;\n",
       "    }\n",
       "</style>\n",
       "<table border=\"1\" class=\"dataframe\">\n",
       "  <thead>\n",
       "    <tr style=\"text-align: right;\">\n",
       "      <th></th>\n",
       "      <th>서울시민업종코드(UPJONG_CD)</th>\n",
       "      <th>기준년월(YM)</th>\n",
       "      <th>고객주소블록코드(BLOCK_CD)</th>\n",
       "      <th>성별(GEDNER)</th>\n",
       "      <th>연령대별(AGE)</th>\n",
       "      <th>카드이용금액계(AMT_CORR)</th>\n",
       "      <th>카드이용건수계(USECT_CORR)</th>\n",
       "    </tr>\n",
       "  </thead>\n",
       "  <tbody>\n",
       "    <tr>\n",
       "      <th>23</th>\n",
       "      <td>SS068</td>\n",
       "      <td>201604</td>\n",
       "      <td>214034</td>\n",
       "      <td>M</td>\n",
       "      <td>40대</td>\n",
       "      <td>101103</td>\n",
       "      <td>15</td>\n",
       "    </tr>\n",
       "    <tr>\n",
       "      <th>46</th>\n",
       "      <td>SS058</td>\n",
       "      <td>202104</td>\n",
       "      <td>354453</td>\n",
       "      <td>F</td>\n",
       "      <td>40대</td>\n",
       "      <td>336004</td>\n",
       "      <td>10</td>\n",
       "    </tr>\n",
       "  </tbody>\n",
       "</table>\n",
       "</div>"
      ],
      "text/plain": [
       "   서울시민업종코드(UPJONG_CD)  기준년월(YM)  고객주소블록코드(BLOCK_CD) 성별(GEDNER) 연령대별(AGE)  \\\n",
       "23               SS068    201604              214034          M       40대   \n",
       "46               SS058    202104              354453          F       40대   \n",
       "\n",
       "    카드이용금액계(AMT_CORR)  카드이용건수계(USECT_CORR)  \n",
       "23             101103                   15  \n",
       "46             336004                   10  "
      ]
     },
     "execution_count": 22,
     "metadata": {},
     "output_type": "execute_result"
    }
   ],
   "source": [
    "pd.read_csv(path+'블록별 성별연령대별 카드소비패턴.csv', encoding='cp949').sample(2)"
   ]
  },
  {
   "cell_type": "code",
   "execution_count": null,
   "id": "9a740e59",
   "metadata": {
    "hidden": true
   },
   "outputs": [],
   "source": []
  }
 ],
 "metadata": {
  "kernelspec": {
   "display_name": "Python 3 (ipykernel)",
   "language": "python",
   "name": "python3"
  },
  "language_info": {
   "codemirror_mode": {
    "name": "ipython",
    "version": 3
   },
   "file_extension": ".py",
   "mimetype": "text/x-python",
   "name": "python",
   "nbconvert_exporter": "python",
   "pygments_lexer": "ipython3",
   "version": "3.9.7"
  },
  "toc": {
   "base_numbering": 1,
   "nav_menu": {},
   "number_sections": true,
   "sideBar": true,
   "skip_h1_title": false,
   "title_cell": "Table of Contents",
   "title_sidebar": "Contents",
   "toc_cell": false,
   "toc_position": {
    "height": "calc(100% - 180px)",
    "left": "10px",
    "top": "150px",
    "width": "254.182px"
   },
   "toc_section_display": true,
   "toc_window_display": true
  }
 },
 "nbformat": 4,
 "nbformat_minor": 5
}
