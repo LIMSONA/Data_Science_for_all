{
 "cells": [
  {
   "cell_type": "code",
   "execution_count": null,
   "id": "8680aaa9",
   "metadata": {},
   "outputs": [],
   "source": []
  },
  {
   "cell_type": "markdown",
   "id": "45ca67d7",
   "metadata": {},
   "source": [
    "카카오 오픈 API - 키워드로 장소 검색하기\n",
    "* https://developers.kakao.com/docs/latest/ko/local/dev-guide#search-by-keyword"
   ]
  },
  {
   "cell_type": "code",
   "execution_count": 1,
   "id": "c5a5200e",
   "metadata": {},
   "outputs": [
    {
     "data": {
      "text/plain": [
       "[{'address_name': '서울 마포구 서교동 395-166',\n",
       "  'category_group_code': 'CE7',\n",
       "  'category_group_name': '카페',\n",
       "  'category_name': '음식점 > 카페 > 커피전문점 > 스타벅스',\n",
       "  'distance': '',\n",
       "  'id': '26572121',\n",
       "  'phone': '1522-3232',\n",
       "  'place_name': '스타벅스 서교점',\n",
       "  'place_url': 'http://place.map.kakao.com/26572121',\n",
       "  'road_address_name': '서울 마포구 양화로 78',\n",
       "  'x': '126.916980454434',\n",
       "  'y': '37.5514601750423'}]"
      ]
     },
     "execution_count": 1,
     "metadata": {},
     "output_type": "execute_result"
    }
   ],
   "source": [
    "import requests\n",
    "\n",
    "searching = '합정 스타벅스'\n",
    "size = 1\n",
    "url = 'https://dapi.kakao.com/v2/local/search/keyword.json?query={}&size={}'.format(searching, size)\n",
    "headers = {\n",
    "    \"Authorization\": \"KakaoAK ce19ca6be45d63e2ec27de006ee373e9\"\n",
    "}\n",
    "places = requests.get(url, headers = headers).json()['documents']\n",
    "places"
   ]
  },
  {
   "cell_type": "code",
   "execution_count": null,
   "id": "9fe5ab56",
   "metadata": {},
   "outputs": [],
   "source": []
  }
 ],
 "metadata": {
  "kernelspec": {
   "display_name": "Python 3 (ipykernel)",
   "language": "python",
   "name": "python3"
  },
  "language_info": {
   "codemirror_mode": {
    "name": "ipython",
    "version": 3
   },
   "file_extension": ".py",
   "mimetype": "text/x-python",
   "name": "python",
   "nbconvert_exporter": "python",
   "pygments_lexer": "ipython3",
   "version": "3.9.7"
  },
  "toc": {
   "base_numbering": 1,
   "nav_menu": {},
   "number_sections": true,
   "sideBar": true,
   "skip_h1_title": false,
   "title_cell": "Table of Contents",
   "title_sidebar": "Contents",
   "toc_cell": false,
   "toc_position": {},
   "toc_section_display": true,
   "toc_window_display": false
  }
 },
 "nbformat": 4,
 "nbformat_minor": 5
}
