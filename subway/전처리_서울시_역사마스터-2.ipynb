{
 "cells": [
  {
   "cell_type": "code",
   "execution_count": 1,
   "id": "09e922e4",
   "metadata": {},
   "outputs": [],
   "source": [
    "import pandas as pd\n",
    "import numpy as np\n",
    "import matplotlib.pyplot as plt\n",
    "import requests\n",
    "import os"
   ]
  },
  {
   "cell_type": "markdown",
   "id": "d2234e5f",
   "metadata": {},
   "source": [
    "# 데이터 가져오기"
   ]
  },
  {
   "cell_type": "code",
   "execution_count": 6,
   "id": "3abdd186",
   "metadata": {
    "scrolled": true
   },
   "outputs": [
    {
     "data": {
      "text/plain": [
       "['.ipynb_checkpoints',\n",
       " 'data',\n",
       " 'Untitled.ipynb',\n",
       " '서울시 역사마스터 정보.csv',\n",
       " '카드 데이터 EDA.ipynb']"
      ]
     },
     "execution_count": 6,
     "metadata": {},
     "output_type": "execute_result"
    }
   ],
   "source": [
    "os.listdir()"
   ]
  },
  {
   "cell_type": "code",
   "execution_count": 16,
   "id": "23cec90a",
   "metadata": {},
   "outputs": [
    {
     "data": {
      "text/html": [
       "<div>\n",
       "<style scoped>\n",
       "    .dataframe tbody tr th:only-of-type {\n",
       "        vertical-align: middle;\n",
       "    }\n",
       "\n",
       "    .dataframe tbody tr th {\n",
       "        vertical-align: top;\n",
       "    }\n",
       "\n",
       "    .dataframe thead th {\n",
       "        text-align: right;\n",
       "    }\n",
       "</style>\n",
       "<table border=\"1\" class=\"dataframe\">\n",
       "  <thead>\n",
       "    <tr style=\"text-align: right;\">\n",
       "      <th></th>\n",
       "      <th>역사_ID</th>\n",
       "      <th>역사명</th>\n",
       "      <th>호선</th>\n",
       "      <th>위도</th>\n",
       "      <th>경도</th>\n",
       "    </tr>\n",
       "  </thead>\n",
       "  <tbody>\n",
       "    <tr>\n",
       "      <th>0</th>\n",
       "      <td>9996</td>\n",
       "      <td>미사</td>\n",
       "      <td>5호선</td>\n",
       "      <td>127.193877</td>\n",
       "      <td>37.560927</td>\n",
       "    </tr>\n",
       "    <tr>\n",
       "      <th>1</th>\n",
       "      <td>9995</td>\n",
       "      <td>강일</td>\n",
       "      <td>5호선</td>\n",
       "      <td>127.175930</td>\n",
       "      <td>37.557490</td>\n",
       "    </tr>\n",
       "    <tr>\n",
       "      <th>2</th>\n",
       "      <td>4929</td>\n",
       "      <td>김포공항</td>\n",
       "      <td>김포골드라인</td>\n",
       "      <td>126.801868</td>\n",
       "      <td>37.562360</td>\n",
       "    </tr>\n",
       "    <tr>\n",
       "      <th>3</th>\n",
       "      <td>4928</td>\n",
       "      <td>고촌</td>\n",
       "      <td>김포골드라인</td>\n",
       "      <td>126.770345</td>\n",
       "      <td>37.601243</td>\n",
       "    </tr>\n",
       "    <tr>\n",
       "      <th>4</th>\n",
       "      <td>4927</td>\n",
       "      <td>풍무</td>\n",
       "      <td>김포골드라인</td>\n",
       "      <td>126.732387</td>\n",
       "      <td>37.612488</td>\n",
       "    </tr>\n",
       "  </tbody>\n",
       "</table>\n",
       "</div>"
      ],
      "text/plain": [
       "   역사_ID   역사명      호선          위도         경도\n",
       "0   9996    미사     5호선  127.193877  37.560927\n",
       "1   9995    강일     5호선  127.175930  37.557490\n",
       "2   4929  김포공항  김포골드라인  126.801868  37.562360\n",
       "3   4928    고촌  김포골드라인  126.770345  37.601243\n",
       "4   4927    풍무  김포골드라인  126.732387  37.612488"
      ]
     },
     "execution_count": 16,
     "metadata": {},
     "output_type": "execute_result"
    }
   ],
   "source": [
    "subway_info = pd.read_csv('서울시 역사마스터 정보.csv', encoding='cp949')\n",
    "subway_info.head()"
   ]
  },
  {
   "cell_type": "markdown",
   "id": "06140d2d",
   "metadata": {},
   "source": [
    "# 주소 빼오기"
   ]
  },
  {
   "cell_type": "markdown",
   "id": "2aba07a7",
   "metadata": {},
   "source": [
    "## 방법1 : 상호명으로 주소 찾기"
   ]
  },
  {
   "cell_type": "code",
   "execution_count": 2,
   "id": "9a6e25c6",
   "metadata": {},
   "outputs": [
    {
     "data": {
      "text/plain": [
       "[{'address_name': '서울 마포구 서교동 395-166',\n",
       "  'category_group_code': 'CE7',\n",
       "  'category_group_name': '카페',\n",
       "  'category_name': '음식점 > 카페 > 커피전문점 > 스타벅스',\n",
       "  'distance': '',\n",
       "  'id': '26572121',\n",
       "  'phone': '1522-3232',\n",
       "  'place_name': '스타벅스 서교점',\n",
       "  'place_url': 'http://place.map.kakao.com/26572121',\n",
       "  'road_address_name': '서울 마포구 양화로 78',\n",
       "  'x': '126.916980454434',\n",
       "  'y': '37.5514601750423'}]"
      ]
     },
     "execution_count": 2,
     "metadata": {},
     "output_type": "execute_result"
    }
   ],
   "source": [
    "searching = \"합정 스타벅스\"\n",
    "size = 1\n",
    "url = 'https://dapi.kakao.com/v2/local/search/keyword.json?query={}&size={}'.format(searching, size)\n",
    "headers = {\"Authorization\": \"KakaoAK ce19ca6be45d63e2ec27de006ee373e9\"}\n",
    "places = requests.get(url, headers = headers).json()['documents']\n",
    "places"
   ]
  },
  {
   "cell_type": "code",
   "execution_count": 26,
   "id": "47dd8feb",
   "metadata": {},
   "outputs": [],
   "source": [
    "def convert_adr(searching):\n",
    "    size = 1\n",
    "    url = 'https://dapi.kakao.com/v2/local/search/keyword.json?query={}&size={}'.format(searching, size)\n",
    "    headers = {\"Authorization\": \"KakaoAK ce19ca6be45d63e2ec27de006ee373e9\"}\n",
    "    places = requests.get(url, headers = headers).json()['documents']\n",
    "    return places"
   ]
  },
  {
   "cell_type": "code",
   "execution_count": 13,
   "id": "f8611892",
   "metadata": {},
   "outputs": [],
   "source": [
    "def convert_ad(searching):\n",
    "    size = 1\n",
    "    url = 'https://dapi.kakao.com/v2/local/search/keyword.json?query={}&size={}'.format(searching, size)\n",
    "    headers = {\"Authorization\": \"KakaoAK ce19ca6be45d63e2ec27de006ee373e9\"}\n",
    "    places = requests.get(url, headers = headers).json()['documents']\n",
    "    return \" \".join(places[0]['road_address_name'].split()[0:2])"
   ]
  },
  {
   "cell_type": "code",
   "execution_count": 15,
   "id": "540689e6",
   "metadata": {},
   "outputs": [
    {
     "data": {
      "text/plain": [
       "0          \n",
       "1          \n",
       "2    서울 강서구\n",
       "3    경기 김포시\n",
       "4    경기 김포시\n",
       "Name: 역사명, dtype: object"
      ]
     },
     "execution_count": 15,
     "metadata": {},
     "output_type": "execute_result"
    }
   ],
   "source": [
    "subway_info.역사명.head().apply(convert_ad)"
   ]
  },
  {
   "cell_type": "markdown",
   "id": "8386bc24",
   "metadata": {},
   "source": [
    "==> 역명이지만, 말미에 '역'이란 이름이 안붙어서 잘 못찾음 전처리 필요함"
   ]
  },
  {
   "cell_type": "code",
   "execution_count": 20,
   "id": "ba4a1b48",
   "metadata": {},
   "outputs": [
    {
     "data": {
      "text/plain": [
       "0      미사역\n",
       "1      강일역\n",
       "2    김포공항역\n",
       "3      고촌역\n",
       "4      풍무역\n",
       "Name: 역사명, dtype: object"
      ]
     },
     "execution_count": 20,
     "metadata": {},
     "output_type": "execute_result"
    }
   ],
   "source": [
    "convert_name = subway_info.역사명.apply(lambda x: str(x)+\"역\")\n",
    "convert_name.head()"
   ]
  },
  {
   "cell_type": "code",
   "execution_count": 30,
   "id": "9339d251",
   "metadata": {},
   "outputs": [
    {
     "data": {
      "text/plain": [
       "0    경기 하남시\n",
       "1    서울 강동구\n",
       "2    서울 강서구\n",
       "3    경기 김포시\n",
       "4    경기 김포시\n",
       "Name: 역사명, dtype: object"
      ]
     },
     "execution_count": 30,
     "metadata": {},
     "output_type": "execute_result"
    }
   ],
   "source": [
    "# 너무 양이 양이 많으니 5개만 빼서 바꿔보자!\n",
    "\n",
    "convert_name.head().apply(convert_ad)"
   ]
  },
  {
   "cell_type": "code",
   "execution_count": 35,
   "id": "86185ddd",
   "metadata": {},
   "outputs": [
    {
     "ename": "IndexError",
     "evalue": "list index out of range",
     "output_type": "error",
     "traceback": [
      "\u001b[1;31m---------------------------------------------------------------------------\u001b[0m",
      "\u001b[1;31mIndexError\u001b[0m                                Traceback (most recent call last)",
      "\u001b[1;32m~\\AppData\\Local\\Temp/ipykernel_18372/3822474526.py\u001b[0m in \u001b[0;36m<module>\u001b[1;34m\u001b[0m\n\u001b[1;32m----> 1\u001b[1;33m \u001b[0mconvert_name\u001b[0m\u001b[1;33m.\u001b[0m\u001b[0mapply\u001b[0m\u001b[1;33m(\u001b[0m\u001b[0mconvert_ad\u001b[0m\u001b[1;33m)\u001b[0m\u001b[1;33m\u001b[0m\u001b[1;33m\u001b[0m\u001b[0m\n\u001b[0m",
      "\u001b[1;32m~\\anaconda3\\lib\\site-packages\\pandas\\core\\series.py\u001b[0m in \u001b[0;36mapply\u001b[1;34m(self, func, convert_dtype, args, **kwargs)\u001b[0m\n\u001b[0;32m   4355\u001b[0m         \u001b[0mdtype\u001b[0m\u001b[1;33m:\u001b[0m \u001b[0mfloat64\u001b[0m\u001b[1;33m\u001b[0m\u001b[1;33m\u001b[0m\u001b[0m\n\u001b[0;32m   4356\u001b[0m         \"\"\"\n\u001b[1;32m-> 4357\u001b[1;33m         \u001b[1;32mreturn\u001b[0m \u001b[0mSeriesApply\u001b[0m\u001b[1;33m(\u001b[0m\u001b[0mself\u001b[0m\u001b[1;33m,\u001b[0m \u001b[0mfunc\u001b[0m\u001b[1;33m,\u001b[0m \u001b[0mconvert_dtype\u001b[0m\u001b[1;33m,\u001b[0m \u001b[0margs\u001b[0m\u001b[1;33m,\u001b[0m \u001b[0mkwargs\u001b[0m\u001b[1;33m)\u001b[0m\u001b[1;33m.\u001b[0m\u001b[0mapply\u001b[0m\u001b[1;33m(\u001b[0m\u001b[1;33m)\u001b[0m\u001b[1;33m\u001b[0m\u001b[1;33m\u001b[0m\u001b[0m\n\u001b[0m\u001b[0;32m   4358\u001b[0m \u001b[1;33m\u001b[0m\u001b[0m\n\u001b[0;32m   4359\u001b[0m     def _reduce(\n",
      "\u001b[1;32m~\\anaconda3\\lib\\site-packages\\pandas\\core\\apply.py\u001b[0m in \u001b[0;36mapply\u001b[1;34m(self)\u001b[0m\n\u001b[0;32m   1041\u001b[0m             \u001b[1;32mreturn\u001b[0m \u001b[0mself\u001b[0m\u001b[1;33m.\u001b[0m\u001b[0mapply_str\u001b[0m\u001b[1;33m(\u001b[0m\u001b[1;33m)\u001b[0m\u001b[1;33m\u001b[0m\u001b[1;33m\u001b[0m\u001b[0m\n\u001b[0;32m   1042\u001b[0m \u001b[1;33m\u001b[0m\u001b[0m\n\u001b[1;32m-> 1043\u001b[1;33m         \u001b[1;32mreturn\u001b[0m \u001b[0mself\u001b[0m\u001b[1;33m.\u001b[0m\u001b[0mapply_standard\u001b[0m\u001b[1;33m(\u001b[0m\u001b[1;33m)\u001b[0m\u001b[1;33m\u001b[0m\u001b[1;33m\u001b[0m\u001b[0m\n\u001b[0m\u001b[0;32m   1044\u001b[0m \u001b[1;33m\u001b[0m\u001b[0m\n\u001b[0;32m   1045\u001b[0m     \u001b[1;32mdef\u001b[0m \u001b[0magg\u001b[0m\u001b[1;33m(\u001b[0m\u001b[0mself\u001b[0m\u001b[1;33m)\u001b[0m\u001b[1;33m:\u001b[0m\u001b[1;33m\u001b[0m\u001b[1;33m\u001b[0m\u001b[0m\n",
      "\u001b[1;32m~\\anaconda3\\lib\\site-packages\\pandas\\core\\apply.py\u001b[0m in \u001b[0;36mapply_standard\u001b[1;34m(self)\u001b[0m\n\u001b[0;32m   1096\u001b[0m                 \u001b[1;31m# List[Union[Callable[..., Any], str]]]]]\"; expected\u001b[0m\u001b[1;33m\u001b[0m\u001b[1;33m\u001b[0m\u001b[0m\n\u001b[0;32m   1097\u001b[0m                 \u001b[1;31m# \"Callable[[Any], Any]\"\u001b[0m\u001b[1;33m\u001b[0m\u001b[1;33m\u001b[0m\u001b[0m\n\u001b[1;32m-> 1098\u001b[1;33m                 mapped = lib.map_infer(\n\u001b[0m\u001b[0;32m   1099\u001b[0m                     \u001b[0mvalues\u001b[0m\u001b[1;33m,\u001b[0m\u001b[1;33m\u001b[0m\u001b[1;33m\u001b[0m\u001b[0m\n\u001b[0;32m   1100\u001b[0m                     \u001b[0mf\u001b[0m\u001b[1;33m,\u001b[0m  \u001b[1;31m# type: ignore[arg-type]\u001b[0m\u001b[1;33m\u001b[0m\u001b[1;33m\u001b[0m\u001b[0m\n",
      "\u001b[1;32m~\\anaconda3\\lib\\site-packages\\pandas\\_libs\\lib.pyx\u001b[0m in \u001b[0;36mpandas._libs.lib.map_infer\u001b[1;34m()\u001b[0m\n",
      "\u001b[1;32m~\\AppData\\Local\\Temp/ipykernel_18372/1559548982.py\u001b[0m in \u001b[0;36mconvert_ad\u001b[1;34m(searching)\u001b[0m\n\u001b[0;32m      4\u001b[0m     \u001b[0mheaders\u001b[0m \u001b[1;33m=\u001b[0m \u001b[1;33m{\u001b[0m\u001b[1;34m\"Authorization\"\u001b[0m\u001b[1;33m:\u001b[0m \u001b[1;34m\"KakaoAK ce19ca6be45d63e2ec27de006ee373e9\"\u001b[0m\u001b[1;33m}\u001b[0m\u001b[1;33m\u001b[0m\u001b[1;33m\u001b[0m\u001b[0m\n\u001b[0;32m      5\u001b[0m     \u001b[0mplaces\u001b[0m \u001b[1;33m=\u001b[0m \u001b[0mrequests\u001b[0m\u001b[1;33m.\u001b[0m\u001b[0mget\u001b[0m\u001b[1;33m(\u001b[0m\u001b[0murl\u001b[0m\u001b[1;33m,\u001b[0m \u001b[0mheaders\u001b[0m \u001b[1;33m=\u001b[0m \u001b[0mheaders\u001b[0m\u001b[1;33m)\u001b[0m\u001b[1;33m.\u001b[0m\u001b[0mjson\u001b[0m\u001b[1;33m(\u001b[0m\u001b[1;33m)\u001b[0m\u001b[1;33m[\u001b[0m\u001b[1;34m'documents'\u001b[0m\u001b[1;33m]\u001b[0m\u001b[1;33m\u001b[0m\u001b[1;33m\u001b[0m\u001b[0m\n\u001b[1;32m----> 6\u001b[1;33m     \u001b[1;32mreturn\u001b[0m \u001b[1;34m\" \"\u001b[0m\u001b[1;33m.\u001b[0m\u001b[0mjoin\u001b[0m\u001b[1;33m(\u001b[0m\u001b[0mplaces\u001b[0m\u001b[1;33m[\u001b[0m\u001b[1;36m0\u001b[0m\u001b[1;33m]\u001b[0m\u001b[1;33m[\u001b[0m\u001b[1;34m'road_address_name'\u001b[0m\u001b[1;33m]\u001b[0m\u001b[1;33m.\u001b[0m\u001b[0msplit\u001b[0m\u001b[1;33m(\u001b[0m\u001b[1;33m)\u001b[0m\u001b[1;33m[\u001b[0m\u001b[1;36m0\u001b[0m\u001b[1;33m:\u001b[0m\u001b[1;36m2\u001b[0m\u001b[1;33m]\u001b[0m\u001b[1;33m)\u001b[0m\u001b[1;33m\u001b[0m\u001b[1;33m\u001b[0m\u001b[0m\n\u001b[0m",
      "\u001b[1;31mIndexError\u001b[0m: list index out of range"
     ]
    }
   ],
   "source": [
    "convert_name.apply(convert_ad)"
   ]
  },
  {
   "cell_type": "markdown",
   "id": "6f9f8dea",
   "metadata": {},
   "source": [
    "==> 중간에 주소를 못 찾는 건지 위도, 경도로 주소를 뽑는 방법으로 주소를 빼오자!"
   ]
  },
  {
   "cell_type": "markdown",
   "id": "15c90d4f",
   "metadata": {},
   "source": [
    "## 위도/경도로 주소 찾기"
   ]
  },
  {
   "cell_type": "code",
   "execution_count": 36,
   "id": "33692550",
   "metadata": {},
   "outputs": [],
   "source": [
    "def lat_lon_to_addr(lon,lat):\n",
    "    url = 'https://dapi.kakao.com/v2/local/geo/coord2regioncode.json?x={longitude}&y={latitude}'.format(longitude=lon,latitude=lat)\n",
    "    headers = {\"Authorization\": \"KakaoAK ce19ca6be45d63e2ec27de006ee373e9\"}\n",
    "    result = json.loads(str(requests.get(url, headers=headers).text))\n",
    "    match_first = result['documents'][0]['address_name']\n",
    "    return str(match_first)"
   ]
  },
  {
   "cell_type": "code",
   "execution_count": 72,
   "id": "dd60b59e",
   "metadata": {},
   "outputs": [
    {
     "data": {
      "text/html": [
       "<div>\n",
       "<style scoped>\n",
       "    .dataframe tbody tr th:only-of-type {\n",
       "        vertical-align: middle;\n",
       "    }\n",
       "\n",
       "    .dataframe tbody tr th {\n",
       "        vertical-align: top;\n",
       "    }\n",
       "\n",
       "    .dataframe thead th {\n",
       "        text-align: right;\n",
       "    }\n",
       "</style>\n",
       "<table border=\"1\" class=\"dataframe\">\n",
       "  <thead>\n",
       "    <tr style=\"text-align: right;\">\n",
       "      <th></th>\n",
       "      <th>역사_ID</th>\n",
       "      <th>역사명</th>\n",
       "      <th>호선</th>\n",
       "      <th>위도</th>\n",
       "      <th>경도</th>\n",
       "    </tr>\n",
       "  </thead>\n",
       "  <tbody>\n",
       "    <tr>\n",
       "      <th>0</th>\n",
       "      <td>9996</td>\n",
       "      <td>미사</td>\n",
       "      <td>5호선</td>\n",
       "      <td>127.193877</td>\n",
       "      <td>37.560927</td>\n",
       "    </tr>\n",
       "    <tr>\n",
       "      <th>1</th>\n",
       "      <td>9995</td>\n",
       "      <td>강일</td>\n",
       "      <td>5호선</td>\n",
       "      <td>127.175930</td>\n",
       "      <td>37.557490</td>\n",
       "    </tr>\n",
       "    <tr>\n",
       "      <th>2</th>\n",
       "      <td>4929</td>\n",
       "      <td>김포공항</td>\n",
       "      <td>김포골드라인</td>\n",
       "      <td>126.801868</td>\n",
       "      <td>37.562360</td>\n",
       "    </tr>\n",
       "    <tr>\n",
       "      <th>3</th>\n",
       "      <td>4928</td>\n",
       "      <td>고촌</td>\n",
       "      <td>김포골드라인</td>\n",
       "      <td>126.770345</td>\n",
       "      <td>37.601243</td>\n",
       "    </tr>\n",
       "    <tr>\n",
       "      <th>4</th>\n",
       "      <td>4927</td>\n",
       "      <td>풍무</td>\n",
       "      <td>김포골드라인</td>\n",
       "      <td>126.732387</td>\n",
       "      <td>37.612488</td>\n",
       "    </tr>\n",
       "    <tr>\n",
       "      <th>...</th>\n",
       "      <td>...</td>\n",
       "      <td>...</td>\n",
       "      <td>...</td>\n",
       "      <td>...</td>\n",
       "      <td>...</td>\n",
       "    </tr>\n",
       "    <tr>\n",
       "      <th>733</th>\n",
       "      <td>154</td>\n",
       "      <td>종로5가</td>\n",
       "      <td>1호선</td>\n",
       "      <td>127.001849</td>\n",
       "      <td>37.570926</td>\n",
       "    </tr>\n",
       "    <tr>\n",
       "      <th>734</th>\n",
       "      <td>153</td>\n",
       "      <td>종로3가</td>\n",
       "      <td>1호선</td>\n",
       "      <td>126.991847</td>\n",
       "      <td>37.570406</td>\n",
       "    </tr>\n",
       "    <tr>\n",
       "      <th>735</th>\n",
       "      <td>152</td>\n",
       "      <td>종각</td>\n",
       "      <td>1호선</td>\n",
       "      <td>126.982923</td>\n",
       "      <td>37.570161</td>\n",
       "    </tr>\n",
       "    <tr>\n",
       "      <th>736</th>\n",
       "      <td>151</td>\n",
       "      <td>시청</td>\n",
       "      <td>1호선</td>\n",
       "      <td>126.977088</td>\n",
       "      <td>37.565715</td>\n",
       "    </tr>\n",
       "    <tr>\n",
       "      <th>737</th>\n",
       "      <td>150</td>\n",
       "      <td>서울역</td>\n",
       "      <td>1호선</td>\n",
       "      <td>126.972135</td>\n",
       "      <td>37.556228</td>\n",
       "    </tr>\n",
       "  </tbody>\n",
       "</table>\n",
       "<p>738 rows × 5 columns</p>\n",
       "</div>"
      ],
      "text/plain": [
       "     역사_ID   역사명      호선          위도         경도\n",
       "0     9996    미사     5호선  127.193877  37.560927\n",
       "1     9995    강일     5호선  127.175930  37.557490\n",
       "2     4929  김포공항  김포골드라인  126.801868  37.562360\n",
       "3     4928    고촌  김포골드라인  126.770345  37.601243\n",
       "4     4927    풍무  김포골드라인  126.732387  37.612488\n",
       "..     ...   ...     ...         ...        ...\n",
       "733    154  종로5가     1호선  127.001849  37.570926\n",
       "734    153  종로3가     1호선  126.991847  37.570406\n",
       "735    152    종각     1호선  126.982923  37.570161\n",
       "736    151    시청     1호선  126.977088  37.565715\n",
       "737    150   서울역     1호선  126.972135  37.556228\n",
       "\n",
       "[738 rows x 5 columns]"
      ]
     },
     "execution_count": 72,
     "metadata": {},
     "output_type": "execute_result"
    }
   ],
   "source": [
    "subway_info"
   ]
  },
  {
   "cell_type": "code",
   "execution_count": 41,
   "id": "0500898c",
   "metadata": {},
   "outputs": [
    {
     "data": {
      "text/plain": [
       "'경기도 하남시 망월동'"
      ]
     },
     "execution_count": 41,
     "metadata": {},
     "output_type": "execute_result"
    }
   ],
   "source": [
    "lat_lon_to_addr(127.193877,37.560927)"
   ]
  },
  {
   "cell_type": "code",
   "execution_count": 73,
   "id": "69b0a188",
   "metadata": {},
   "outputs": [
    {
     "data": {
      "text/plain": [
       "0      127.193877\n",
       "1      127.175930\n",
       "2      126.801868\n",
       "3      126.770345\n",
       "4      126.732387\n",
       "          ...    \n",
       "733    127.001849\n",
       "734    126.991847\n",
       "735    126.982923\n",
       "736    126.977088\n",
       "737    126.972135\n",
       "Name: 위도, Length: 738, dtype: float64"
      ]
     },
     "execution_count": 73,
     "metadata": {},
     "output_type": "execute_result"
    }
   ],
   "source": [
    "subway_info.위도"
   ]
  },
  {
   "cell_type": "code",
   "execution_count": 76,
   "id": "48173fbd",
   "metadata": {},
   "outputs": [
    {
     "data": {
      "text/plain": [
       "0      37.560927\n",
       "1      37.557490\n",
       "2      37.562360\n",
       "3      37.601243\n",
       "4      37.612488\n",
       "         ...    \n",
       "733    37.570926\n",
       "734    37.570406\n",
       "735    37.570161\n",
       "736    37.565715\n",
       "737    37.556228\n",
       "Name: 경도, Length: 738, dtype: float64"
      ]
     },
     "execution_count": 76,
     "metadata": {},
     "output_type": "execute_result"
    }
   ],
   "source": [
    "subway_info.경도"
   ]
  },
  {
   "cell_type": "code",
   "execution_count": 78,
   "id": "e690d59c",
   "metadata": {},
   "outputs": [],
   "source": [
    "주소 = []\n",
    "for i in range(738):\n",
    "    result = lat_lon_to_addr(subway_info.위도[i], subway_info.경도[i])\n",
    "    주소.append(result)"
   ]
  },
  {
   "cell_type": "code",
   "execution_count": 81,
   "id": "6a9e5056",
   "metadata": {},
   "outputs": [
    {
     "data": {
      "text/plain": [
       "0          경기도 하남시 망월동\n",
       "1        서울특별시 강동구 강일동\n",
       "2        서울특별시 강서구 방화동\n",
       "3      경기도 김포시 고촌읍 신곡리\n",
       "4          경기도 김포시 사우동\n",
       "            ...       \n",
       "733     서울특별시 종로구 종로5가\n",
       "734     서울특별시 종로구 종로3가\n",
       "735     서울특별시 종로구 종로1가\n",
       "736        서울특별시 중구 정동\n",
       "737     서울특별시 중구 봉래동2가\n",
       "Length: 738, dtype: object"
      ]
     },
     "execution_count": 81,
     "metadata": {},
     "output_type": "execute_result"
    }
   ],
   "source": [
    "pd.Series(data=주소)"
   ]
  },
  {
   "cell_type": "code",
   "execution_count": 84,
   "id": "d41e5d5c",
   "metadata": {},
   "outputs": [],
   "source": [
    "subway_info[\"주소\"] = pd.Series(data=주소)"
   ]
  },
  {
   "cell_type": "code",
   "execution_count": 85,
   "id": "33efd3bb",
   "metadata": {},
   "outputs": [
    {
     "data": {
      "text/html": [
       "<div>\n",
       "<style scoped>\n",
       "    .dataframe tbody tr th:only-of-type {\n",
       "        vertical-align: middle;\n",
       "    }\n",
       "\n",
       "    .dataframe tbody tr th {\n",
       "        vertical-align: top;\n",
       "    }\n",
       "\n",
       "    .dataframe thead th {\n",
       "        text-align: right;\n",
       "    }\n",
       "</style>\n",
       "<table border=\"1\" class=\"dataframe\">\n",
       "  <thead>\n",
       "    <tr style=\"text-align: right;\">\n",
       "      <th></th>\n",
       "      <th>역사_ID</th>\n",
       "      <th>역사명</th>\n",
       "      <th>호선</th>\n",
       "      <th>위도</th>\n",
       "      <th>경도</th>\n",
       "      <th>주소</th>\n",
       "    </tr>\n",
       "  </thead>\n",
       "  <tbody>\n",
       "    <tr>\n",
       "      <th>0</th>\n",
       "      <td>9996</td>\n",
       "      <td>미사</td>\n",
       "      <td>5호선</td>\n",
       "      <td>127.193877</td>\n",
       "      <td>37.560927</td>\n",
       "      <td>경기도 하남시 망월동</td>\n",
       "    </tr>\n",
       "    <tr>\n",
       "      <th>1</th>\n",
       "      <td>9995</td>\n",
       "      <td>강일</td>\n",
       "      <td>5호선</td>\n",
       "      <td>127.175930</td>\n",
       "      <td>37.557490</td>\n",
       "      <td>서울특별시 강동구 강일동</td>\n",
       "    </tr>\n",
       "  </tbody>\n",
       "</table>\n",
       "</div>"
      ],
      "text/plain": [
       "   역사_ID 역사명   호선          위도         경도             주소\n",
       "0   9996  미사  5호선  127.193877  37.560927    경기도 하남시 망월동\n",
       "1   9995  강일  5호선  127.175930  37.557490  서울특별시 강동구 강일동"
      ]
     },
     "execution_count": 85,
     "metadata": {},
     "output_type": "execute_result"
    }
   ],
   "source": [
    "subway_info.head(2)"
   ]
  },
  {
   "cell_type": "markdown",
   "id": "988be010",
   "metadata": {},
   "source": [
    "# 내보내기"
   ]
  },
  {
   "cell_type": "code",
   "execution_count": 86,
   "id": "1f675461",
   "metadata": {},
   "outputs": [],
   "source": [
    "subway_info.to_csv(\"지하철역_정보.csv\")"
   ]
  },
  {
   "cell_type": "code",
   "execution_count": 87,
   "id": "d996dde3",
   "metadata": {},
   "outputs": [
    {
     "data": {
      "text/plain": [
       "['.ipynb_checkpoints',\n",
       " 'data',\n",
       " 'Untitled.ipynb',\n",
       " '서울시 역사마스터 정보.csv',\n",
       " '지하철역_정보.csv',\n",
       " '카드 데이터 EDA.ipynb']"
      ]
     },
     "execution_count": 87,
     "metadata": {},
     "output_type": "execute_result"
    }
   ],
   "source": [
    "os.listdir()"
   ]
  }
 ],
 "metadata": {
  "kernelspec": {
   "display_name": "Python 3 (ipykernel)",
   "language": "python",
   "name": "python3"
  },
  "language_info": {
   "codemirror_mode": {
    "name": "ipython",
    "version": 3
   },
   "file_extension": ".py",
   "mimetype": "text/x-python",
   "name": "python",
   "nbconvert_exporter": "python",
   "pygments_lexer": "ipython3",
   "version": "3.9.7"
  },
  "toc": {
   "base_numbering": 1,
   "nav_menu": {},
   "number_sections": true,
   "sideBar": true,
   "skip_h1_title": false,
   "title_cell": "Table of Contents",
   "title_sidebar": "Contents",
   "toc_cell": false,
   "toc_position": {},
   "toc_section_display": true,
   "toc_window_display": true
  }
 },
 "nbformat": 4,
 "nbformat_minor": 5
}
